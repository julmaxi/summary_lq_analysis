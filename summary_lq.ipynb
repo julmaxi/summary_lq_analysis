{
 "cells": [
  {
   "cell_type": "code",
   "execution_count": 1,
   "metadata": {},
   "outputs": [],
   "source": [
    "%matplotlib inline\n",
    "\n",
    "import sys\n",
    "from pathlib import Path\n",
    "\n",
    "import random\n",
    "\n",
    "import numpy as np\n",
    "\n",
    "import re\n",
    "\n",
    "import pandas as pd\n",
    "from tqdm import tqdm\n",
    "\n",
    "\n",
    "import seaborn as sns\n",
    "import matplotlib.pyplot as plt\n",
    "import itertools as it\n",
    "import scipy.stats\n",
    "\n",
    "import krippendorff\n",
    "\n",
    "\n",
    "random.seed(675756)\n",
    "np.random.seed(675756)\n",
    "\n",
    "base_path = Path(\"/home/mitarb/steen/Documents/public_repositories/summary_lq_analysis\")\n",
    "sys.path.append(str(base_path/\"scripts\"))\n",
    "\n",
    "import summaryanalysis.ordinal as ordinal\n",
    "from summaryanalysis.timereliability import compute_time_reliability_curve, compute_grouped_subsample_variance\n",
    "from summaryanalysis.shr import compute_annotator_shr\n",
    "from summaryanalysis.art import paired_approximate_randomization_test\n",
    "from summaryanalysis.montecarlo import run_art_experiment, filter_wrong_rankings, read_obspower_files, run_art_experiment_fixed_budget, get_model_type1_error_rates\n",
    "\n",
    "\n",
    "annotations_dir = base_path / \"anonymized_annotations\"\n",
    "\n",
    "data_path = annotations_dir / \"judgements/\"\n",
    "times_path = annotations_dir / \"times\"\n",
    "obs_power_path = base_path / \"obspower\"\n",
    "model_path = base_path / \"models\""
   ]
  },
  {
   "cell_type": "markdown",
   "metadata": {},
   "source": [
    "## First we load judgements, times and models"
   ]
  },
  {
   "cell_type": "code",
   "execution_count": 2,
   "metadata": {},
   "outputs": [],
   "source": [
    "experiments = {}\n",
    "times = {}\n",
    "\n",
    "for method in \"rank\", \"likert\":\n",
    "    for question in \"repetition\", \"coherence\":\n",
    "        fname = f\"{method}_{question}_cnn_dm.csv\"\n",
    "        experiments[method, question] = pd.read_csv(data_path / fname, index_col=[0, 1, 2])\n",
    "        times[method, question] = pd.read_csv(times_path / fname, index_col=[0, 1])[\"time_stamp\"]\n",
    "\n",
    "models = {\n",
    "    \"coherence\": ordinal.OrdinalModel.from_file(model_path / \"model_logit_likert_cnndm_coherence.json\"),\n",
    "    \"repetition\": ordinal.OrdinalModel.from_file(model_path / \"model_logit_likert_cnndm_repetition.json\")\n",
    "}\n"
   ]
  },
  {
   "cell_type": "markdown",
   "metadata": {},
   "source": [
    "## We reproduce the score distribution\n",
    "For significance analysis, run analyse-ordinal.r"
   ]
  },
  {
   "cell_type": "code",
   "execution_count": 3,
   "metadata": {},
   "outputs": [
    {
     "name": "stdout",
     "output_type": "stream",
     "text": [
      "likert - coherence\trank - coherence\tlikert - repetition\trank - repetition\n",
      "5.25\t1.73\t5.85\t2.88\n",
      "4.33\t3.31\t6.14\t2.41\n",
      "4.17\t3.17\t4.88\t3.51\n",
      "4.81\t2.68\t5.63\t2.92\n",
      "3.52\t4.11\t5.16\t3.27\n"
     ]
    }
   ],
   "source": [
    "order = [\n",
    "    (\"likert\", \"coherence\"),\n",
    "    (\"rank\", \"coherence\"),\n",
    "    (\"likert\", \"repetition\"),\n",
    "    (\"rank\", \"repetition\")\n",
    "]\n",
    "\n",
    "system_order = [\"BART\", \"__REFERENCE__\", \"abssentrw\", \"onmt_pg\", \"seneca\"]\n",
    "\n",
    "all_mean_scores = {}\n",
    "for (method, question), judgements in experiments.items():\n",
    "    mean_scores = judgements.groupby(\"system\").mean()\n",
    "    if method == \"rank\":\n",
    "        mean_scores += 1 # We export 0-based ranks, but 1-based ranks are more readable\n",
    "\n",
    "    all_mean_scores[method, question] = mean_scores\n",
    "    \n",
    "headers = []\n",
    "for (method, question) in order:\n",
    "    headers.append(f\"{method} - {question}\")\n",
    "\n",
    "rows = []\n",
    "for system in system_order:\n",
    "    row = []\n",
    "    for (method, question) in order:\n",
    "        mean_scores = all_mean_scores[method, question]\n",
    "        row.append(f\"{mean_scores.loc[system].item():.2f}\")\n",
    "    rows.append(row)\n",
    "\n",
    "print(\"\\t\".join(headers))\n",
    "print(\"\\n\".join(map(lambda r: \"\\t\".join(r), rows)))"
   ]
  },
  {
   "cell_type": "markdown",
   "metadata": {},
   "source": [
    "## Compute instance-level reliability"
   ]
  },
  {
   "cell_type": "code",
   "execution_count": 4,
   "metadata": {},
   "outputs": [
    {
     "name": "stdout",
     "output_type": "stream",
     "text": [
      "rank repetition 0.18\n",
      "rank coherence 0.43\n",
      "likert repetition 0.27\n",
      "likert coherence 0.22\n"
     ]
    }
   ],
   "source": [
    "agreement_reliabilities = {}\n",
    "\n",
    "\n",
    "for (method, question), judgements in experiments.items():\n",
    "    key = \"score\" if method == \"likert\" else \"rank\"\n",
    "    annotation_matrix = pd.pivot_table(data=judgements.reset_index(), values=key, index=[\"document\", \"system\"], columns=\"annotator\")    \n",
    "    agreement = krippendorff.alpha(annotation_matrix.T.to_numpy(), level_of_measurement=\"ordinal\")\n",
    "    agreement_reliabilities[method, question] = agreement\n",
    "\n",
    "for (method, question), score in agreement_reliabilities.items():\n",
    "    print(f\"{method} {question} {score:.2f}\")"
   ]
  },
  {
   "cell_type": "markdown",
   "metadata": {},
   "source": [
    "## Compute SHR"
   ]
  },
  {
   "cell_type": "code",
   "execution_count": 5,
   "metadata": {},
   "outputs": [
    {
     "name": "stdout",
     "output_type": "stream",
     "text": [
      "rank repetition 0.91\n",
      "rank coherence 0.98\n",
      "likert repetition 0.95\n",
      "likert coherence 0.96\n"
     ]
    }
   ],
   "source": [
    "for (method, question), judgements in experiments.items():\n",
    "    key = \"score\" if method == \"likert\" else \"rank\"\n",
    "    shr = compute_annotator_shr(judgements, score_names=[key])\n",
    "    shr = shr[\"pearson\"].get(key)\n",
    "    print(method, question, f\"{shr:.2f}\")"
   ]
  },
  {
   "cell_type": "markdown",
   "metadata": {},
   "source": [
    "## Compute the time-reliability curves"
   ]
  },
  {
   "cell_type": "code",
   "execution_count": 6,
   "metadata": {
    "scrolled": true
   },
   "outputs": [
    {
     "data": {
      "application/vnd.jupyter.widget-view+json": {
       "model_id": "",
       "version_major": 2,
       "version_minor": 0
      },
      "text/plain": [
       "HBox(children=(FloatProgress(value=0.0, max=190.0), HTML(value='')))"
      ]
     },
     "metadata": {},
     "output_type": "display_data"
    },
    {
     "name": "stdout",
     "output_type": "stream",
     "text": [
      "\r"
     ]
    },
    {
     "data": {
      "application/vnd.jupyter.widget-view+json": {
       "model_id": "",
       "version_major": 2,
       "version_minor": 0
      },
      "text/plain": [
       "HBox(children=(FloatProgress(value=0.0, max=500.0), HTML(value='')))"
      ]
     },
     "metadata": {},
     "output_type": "display_data"
    },
    {
     "name": "stdout",
     "output_type": "stream",
     "text": [
      "\r"
     ]
    },
    {
     "data": {
      "application/vnd.jupyter.widget-view+json": {
       "model_id": "",
       "version_major": 2,
       "version_minor": 0
      },
      "text/plain": [
       "HBox(children=(FloatProgress(value=0.0, max=500.0), HTML(value='')))"
      ]
     },
     "metadata": {},
     "output_type": "display_data"
    },
    {
     "name": "stdout",
     "output_type": "stream",
     "text": [
      "\r"
     ]
    },
    {
     "data": {
      "application/vnd.jupyter.widget-view+json": {
       "model_id": "",
       "version_major": 2,
       "version_minor": 0
      },
      "text/plain": [
       "HBox(children=(FloatProgress(value=0.0, max=500.0), HTML(value='')))"
      ]
     },
     "metadata": {},
     "output_type": "display_data"
    },
    {
     "name": "stdout",
     "output_type": "stream",
     "text": [
      "\r"
     ]
    },
    {
     "data": {
      "application/vnd.jupyter.widget-view+json": {
       "model_id": "",
       "version_major": 2,
       "version_minor": 0
      },
      "text/plain": [
       "HBox(children=(FloatProgress(value=0.0, max=500.0), HTML(value='')))"
      ]
     },
     "metadata": {},
     "output_type": "display_data"
    },
    {
     "name": "stdout",
     "output_type": "stream",
     "text": [
      "\r"
     ]
    },
    {
     "data": {
      "application/vnd.jupyter.widget-view+json": {
       "model_id": "",
       "version_major": 2,
       "version_minor": 0
      },
      "text/plain": [
       "HBox(children=(FloatProgress(value=0.0, max=500.0), HTML(value='')))"
      ]
     },
     "metadata": {},
     "output_type": "display_data"
    },
    {
     "name": "stdout",
     "output_type": "stream",
     "text": [
      "\r"
     ]
    },
    {
     "data": {
      "application/vnd.jupyter.widget-view+json": {
       "model_id": "",
       "version_major": 2,
       "version_minor": 0
      },
      "text/plain": [
       "HBox(children=(FloatProgress(value=0.0, max=500.0), HTML(value='')))"
      ]
     },
     "metadata": {},
     "output_type": "display_data"
    },
    {
     "name": "stdout",
     "output_type": "stream",
     "text": [
      "\r"
     ]
    },
    {
     "data": {
      "application/vnd.jupyter.widget-view+json": {
       "model_id": "",
       "version_major": 2,
       "version_minor": 0
      },
      "text/plain": [
       "HBox(children=(FloatProgress(value=0.0, max=500.0), HTML(value='')))"
      ]
     },
     "metadata": {},
     "output_type": "display_data"
    },
    {
     "name": "stdout",
     "output_type": "stream",
     "text": [
      "\r"
     ]
    },
    {
     "data": {
      "application/vnd.jupyter.widget-view+json": {
       "model_id": "",
       "version_major": 2,
       "version_minor": 0
      },
      "text/plain": [
       "HBox(children=(FloatProgress(value=0.0, max=500.0), HTML(value='')))"
      ]
     },
     "metadata": {},
     "output_type": "display_data"
    },
    {
     "name": "stdout",
     "output_type": "stream",
     "text": [
      "\r"
     ]
    },
    {
     "data": {
      "application/vnd.jupyter.widget-view+json": {
       "model_id": "",
       "version_major": 2,
       "version_minor": 0
      },
      "text/plain": [
       "HBox(children=(FloatProgress(value=0.0, max=500.0), HTML(value='')))"
      ]
     },
     "metadata": {},
     "output_type": "display_data"
    },
    {
     "name": "stdout",
     "output_type": "stream",
     "text": [
      "\r"
     ]
    },
    {
     "data": {
      "application/vnd.jupyter.widget-view+json": {
       "model_id": "",
       "version_major": 2,
       "version_minor": 0
      },
      "text/plain": [
       "HBox(children=(FloatProgress(value=0.0, max=500.0), HTML(value='')))"
      ]
     },
     "metadata": {},
     "output_type": "display_data"
    },
    {
     "name": "stdout",
     "output_type": "stream",
     "text": [
      "\r"
     ]
    },
    {
     "data": {
      "application/vnd.jupyter.widget-view+json": {
       "model_id": "",
       "version_major": 2,
       "version_minor": 0
      },
      "text/plain": [
       "HBox(children=(FloatProgress(value=0.0, max=500.0), HTML(value='')))"
      ]
     },
     "metadata": {},
     "output_type": "display_data"
    },
    {
     "name": "stdout",
     "output_type": "stream",
     "text": [
      "\r"
     ]
    },
    {
     "data": {
      "application/vnd.jupyter.widget-view+json": {
       "model_id": "",
       "version_major": 2,
       "version_minor": 0
      },
      "text/plain": [
       "HBox(children=(FloatProgress(value=0.0, max=500.0), HTML(value='')))"
      ]
     },
     "metadata": {},
     "output_type": "display_data"
    },
    {
     "name": "stdout",
     "output_type": "stream",
     "text": [
      "\r"
     ]
    },
    {
     "data": {
      "application/vnd.jupyter.widget-view+json": {
       "model_id": "",
       "version_major": 2,
       "version_minor": 0
      },
      "text/plain": [
       "HBox(children=(FloatProgress(value=0.0, max=500.0), HTML(value='')))"
      ]
     },
     "metadata": {},
     "output_type": "display_data"
    },
    {
     "name": "stdout",
     "output_type": "stream",
     "text": [
      "\r"
     ]
    },
    {
     "data": {
      "application/vnd.jupyter.widget-view+json": {
       "model_id": "",
       "version_major": 2,
       "version_minor": 0
      },
      "text/plain": [
       "HBox(children=(FloatProgress(value=0.0, max=500.0), HTML(value='')))"
      ]
     },
     "metadata": {},
     "output_type": "display_data"
    },
    {
     "name": "stdout",
     "output_type": "stream",
     "text": [
      "\r"
     ]
    },
    {
     "data": {
      "application/vnd.jupyter.widget-view+json": {
       "model_id": "",
       "version_major": 2,
       "version_minor": 0
      },
      "text/plain": [
       "HBox(children=(FloatProgress(value=0.0, max=500.0), HTML(value='')))"
      ]
     },
     "metadata": {},
     "output_type": "display_data"
    },
    {
     "name": "stdout",
     "output_type": "stream",
     "text": [
      "\r"
     ]
    },
    {
     "data": {
      "application/vnd.jupyter.widget-view+json": {
       "model_id": "",
       "version_major": 2,
       "version_minor": 0
      },
      "text/plain": [
       "HBox(children=(FloatProgress(value=0.0, max=190.0), HTML(value='')))"
      ]
     },
     "metadata": {},
     "output_type": "display_data"
    },
    {
     "name": "stdout",
     "output_type": "stream",
     "text": [
      "\r"
     ]
    },
    {
     "data": {
      "application/vnd.jupyter.widget-view+json": {
       "model_id": "",
       "version_major": 2,
       "version_minor": 0
      },
      "text/plain": [
       "HBox(children=(FloatProgress(value=0.0, max=190.0), HTML(value='')))"
      ]
     },
     "metadata": {},
     "output_type": "display_data"
    },
    {
     "name": "stdout",
     "output_type": "stream",
     "text": [
      "\r"
     ]
    },
    {
     "data": {
      "application/vnd.jupyter.widget-view+json": {
       "model_id": "",
       "version_major": 2,
       "version_minor": 0
      },
      "text/plain": [
       "HBox(children=(FloatProgress(value=0.0, max=500.0), HTML(value='')))"
      ]
     },
     "metadata": {},
     "output_type": "display_data"
    },
    {
     "name": "stdout",
     "output_type": "stream",
     "text": [
      "\r"
     ]
    },
    {
     "data": {
      "application/vnd.jupyter.widget-view+json": {
       "model_id": "",
       "version_major": 2,
       "version_minor": 0
      },
      "text/plain": [
       "HBox(children=(FloatProgress(value=0.0, max=500.0), HTML(value='')))"
      ]
     },
     "metadata": {},
     "output_type": "display_data"
    },
    {
     "name": "stdout",
     "output_type": "stream",
     "text": [
      "\r"
     ]
    },
    {
     "data": {
      "application/vnd.jupyter.widget-view+json": {
       "model_id": "",
       "version_major": 2,
       "version_minor": 0
      },
      "text/plain": [
       "HBox(children=(FloatProgress(value=0.0, max=500.0), HTML(value='')))"
      ]
     },
     "metadata": {},
     "output_type": "display_data"
    },
    {
     "name": "stdout",
     "output_type": "stream",
     "text": [
      "\r"
     ]
    },
    {
     "data": {
      "application/vnd.jupyter.widget-view+json": {
       "model_id": "",
       "version_major": 2,
       "version_minor": 0
      },
      "text/plain": [
       "HBox(children=(FloatProgress(value=0.0, max=500.0), HTML(value='')))"
      ]
     },
     "metadata": {},
     "output_type": "display_data"
    },
    {
     "name": "stdout",
     "output_type": "stream",
     "text": [
      "\r"
     ]
    },
    {
     "data": {
      "application/vnd.jupyter.widget-view+json": {
       "model_id": "",
       "version_major": 2,
       "version_minor": 0
      },
      "text/plain": [
       "HBox(children=(FloatProgress(value=0.0, max=500.0), HTML(value='')))"
      ]
     },
     "metadata": {},
     "output_type": "display_data"
    },
    {
     "name": "stdout",
     "output_type": "stream",
     "text": [
      "\r"
     ]
    },
    {
     "data": {
      "application/vnd.jupyter.widget-view+json": {
       "model_id": "",
       "version_major": 2,
       "version_minor": 0
      },
      "text/plain": [
       "HBox(children=(FloatProgress(value=0.0, max=500.0), HTML(value='')))"
      ]
     },
     "metadata": {},
     "output_type": "display_data"
    },
    {
     "name": "stdout",
     "output_type": "stream",
     "text": [
      "\r"
     ]
    },
    {
     "data": {
      "application/vnd.jupyter.widget-view+json": {
       "model_id": "",
       "version_major": 2,
       "version_minor": 0
      },
      "text/plain": [
       "HBox(children=(FloatProgress(value=0.0, max=500.0), HTML(value='')))"
      ]
     },
     "metadata": {},
     "output_type": "display_data"
    },
    {
     "name": "stdout",
     "output_type": "stream",
     "text": [
      "\r"
     ]
    },
    {
     "data": {
      "application/vnd.jupyter.widget-view+json": {
       "model_id": "",
       "version_major": 2,
       "version_minor": 0
      },
      "text/plain": [
       "HBox(children=(FloatProgress(value=0.0, max=500.0), HTML(value='')))"
      ]
     },
     "metadata": {},
     "output_type": "display_data"
    },
    {
     "name": "stdout",
     "output_type": "stream",
     "text": [
      "\r"
     ]
    },
    {
     "data": {
      "application/vnd.jupyter.widget-view+json": {
       "model_id": "",
       "version_major": 2,
       "version_minor": 0
      },
      "text/plain": [
       "HBox(children=(FloatProgress(value=0.0, max=500.0), HTML(value='')))"
      ]
     },
     "metadata": {},
     "output_type": "display_data"
    },
    {
     "name": "stdout",
     "output_type": "stream",
     "text": [
      "\r"
     ]
    },
    {
     "data": {
      "application/vnd.jupyter.widget-view+json": {
       "model_id": "",
       "version_major": 2,
       "version_minor": 0
      },
      "text/plain": [
       "HBox(children=(FloatProgress(value=0.0, max=500.0), HTML(value='')))"
      ]
     },
     "metadata": {},
     "output_type": "display_data"
    },
    {
     "name": "stdout",
     "output_type": "stream",
     "text": [
      "\r"
     ]
    },
    {
     "data": {
      "application/vnd.jupyter.widget-view+json": {
       "model_id": "",
       "version_major": 2,
       "version_minor": 0
      },
      "text/plain": [
       "HBox(children=(FloatProgress(value=0.0, max=500.0), HTML(value='')))"
      ]
     },
     "metadata": {},
     "output_type": "display_data"
    },
    {
     "name": "stdout",
     "output_type": "stream",
     "text": [
      "\r"
     ]
    },
    {
     "data": {
      "application/vnd.jupyter.widget-view+json": {
       "model_id": "",
       "version_major": 2,
       "version_minor": 0
      },
      "text/plain": [
       "HBox(children=(FloatProgress(value=0.0, max=500.0), HTML(value='')))"
      ]
     },
     "metadata": {},
     "output_type": "display_data"
    },
    {
     "name": "stdout",
     "output_type": "stream",
     "text": [
      "\r"
     ]
    },
    {
     "data": {
      "application/vnd.jupyter.widget-view+json": {
       "model_id": "",
       "version_major": 2,
       "version_minor": 0
      },
      "text/plain": [
       "HBox(children=(FloatProgress(value=0.0, max=500.0), HTML(value='')))"
      ]
     },
     "metadata": {},
     "output_type": "display_data"
    },
    {
     "name": "stdout",
     "output_type": "stream",
     "text": [
      "\r"
     ]
    },
    {
     "data": {
      "application/vnd.jupyter.widget-view+json": {
       "model_id": "",
       "version_major": 2,
       "version_minor": 0
      },
      "text/plain": [
       "HBox(children=(FloatProgress(value=0.0, max=500.0), HTML(value='')))"
      ]
     },
     "metadata": {},
     "output_type": "display_data"
    },
    {
     "name": "stdout",
     "output_type": "stream",
     "text": [
      "\r"
     ]
    },
    {
     "data": {
      "application/vnd.jupyter.widget-view+json": {
       "model_id": "",
       "version_major": 2,
       "version_minor": 0
      },
      "text/plain": [
       "HBox(children=(FloatProgress(value=0.0, max=500.0), HTML(value='')))"
      ]
     },
     "metadata": {},
     "output_type": "display_data"
    },
    {
     "name": "stdout",
     "output_type": "stream",
     "text": [
      "\r"
     ]
    },
    {
     "data": {
      "application/vnd.jupyter.widget-view+json": {
       "model_id": "",
       "version_major": 2,
       "version_minor": 0
      },
      "text/plain": [
       "HBox(children=(FloatProgress(value=0.0, max=190.0), HTML(value='')))"
      ]
     },
     "metadata": {},
     "output_type": "display_data"
    },
    {
     "name": "stdout",
     "output_type": "stream",
     "text": [
      "\r"
     ]
    },
    {
     "data": {
      "application/vnd.jupyter.widget-view+json": {
       "model_id": "",
       "version_major": 2,
       "version_minor": 0
      },
      "text/plain": [
       "HBox(children=(FloatProgress(value=0.0, max=190.0), HTML(value='')))"
      ]
     },
     "metadata": {},
     "output_type": "display_data"
    },
    {
     "name": "stdout",
     "output_type": "stream",
     "text": [
      "\r"
     ]
    },
    {
     "data": {
      "application/vnd.jupyter.widget-view+json": {
       "model_id": "",
       "version_major": 2,
       "version_minor": 0
      },
      "text/plain": [
       "HBox(children=(FloatProgress(value=0.0, max=500.0), HTML(value='')))"
      ]
     },
     "metadata": {},
     "output_type": "display_data"
    },
    {
     "name": "stdout",
     "output_type": "stream",
     "text": [
      "\r"
     ]
    },
    {
     "data": {
      "application/vnd.jupyter.widget-view+json": {
       "model_id": "",
       "version_major": 2,
       "version_minor": 0
      },
      "text/plain": [
       "HBox(children=(FloatProgress(value=0.0, max=500.0), HTML(value='')))"
      ]
     },
     "metadata": {},
     "output_type": "display_data"
    },
    {
     "name": "stdout",
     "output_type": "stream",
     "text": [
      "\r"
     ]
    },
    {
     "data": {
      "application/vnd.jupyter.widget-view+json": {
       "model_id": "",
       "version_major": 2,
       "version_minor": 0
      },
      "text/plain": [
       "HBox(children=(FloatProgress(value=0.0, max=500.0), HTML(value='')))"
      ]
     },
     "metadata": {},
     "output_type": "display_data"
    },
    {
     "name": "stdout",
     "output_type": "stream",
     "text": [
      "\r"
     ]
    },
    {
     "data": {
      "application/vnd.jupyter.widget-view+json": {
       "model_id": "",
       "version_major": 2,
       "version_minor": 0
      },
      "text/plain": [
       "HBox(children=(FloatProgress(value=0.0, max=500.0), HTML(value='')))"
      ]
     },
     "metadata": {},
     "output_type": "display_data"
    },
    {
     "name": "stdout",
     "output_type": "stream",
     "text": [
      "\r"
     ]
    },
    {
     "data": {
      "application/vnd.jupyter.widget-view+json": {
       "model_id": "",
       "version_major": 2,
       "version_minor": 0
      },
      "text/plain": [
       "HBox(children=(FloatProgress(value=0.0, max=500.0), HTML(value='')))"
      ]
     },
     "metadata": {},
     "output_type": "display_data"
    },
    {
     "name": "stdout",
     "output_type": "stream",
     "text": [
      "\r"
     ]
    },
    {
     "data": {
      "application/vnd.jupyter.widget-view+json": {
       "model_id": "",
       "version_major": 2,
       "version_minor": 0
      },
      "text/plain": [
       "HBox(children=(FloatProgress(value=0.0, max=500.0), HTML(value='')))"
      ]
     },
     "metadata": {},
     "output_type": "display_data"
    },
    {
     "name": "stdout",
     "output_type": "stream",
     "text": [
      "\r"
     ]
    },
    {
     "data": {
      "application/vnd.jupyter.widget-view+json": {
       "model_id": "",
       "version_major": 2,
       "version_minor": 0
      },
      "text/plain": [
       "HBox(children=(FloatProgress(value=0.0, max=500.0), HTML(value='')))"
      ]
     },
     "metadata": {},
     "output_type": "display_data"
    },
    {
     "name": "stdout",
     "output_type": "stream",
     "text": [
      "\r"
     ]
    },
    {
     "data": {
      "application/vnd.jupyter.widget-view+json": {
       "model_id": "",
       "version_major": 2,
       "version_minor": 0
      },
      "text/plain": [
       "HBox(children=(FloatProgress(value=0.0, max=500.0), HTML(value='')))"
      ]
     },
     "metadata": {},
     "output_type": "display_data"
    },
    {
     "name": "stdout",
     "output_type": "stream",
     "text": [
      "\r"
     ]
    },
    {
     "data": {
      "application/vnd.jupyter.widget-view+json": {
       "model_id": "",
       "version_major": 2,
       "version_minor": 0
      },
      "text/plain": [
       "HBox(children=(FloatProgress(value=0.0, max=500.0), HTML(value='')))"
      ]
     },
     "metadata": {},
     "output_type": "display_data"
    },
    {
     "name": "stdout",
     "output_type": "stream",
     "text": [
      "\r"
     ]
    },
    {
     "data": {
      "application/vnd.jupyter.widget-view+json": {
       "model_id": "",
       "version_major": 2,
       "version_minor": 0
      },
      "text/plain": [
       "HBox(children=(FloatProgress(value=0.0, max=500.0), HTML(value='')))"
      ]
     },
     "metadata": {},
     "output_type": "display_data"
    },
    {
     "name": "stdout",
     "output_type": "stream",
     "text": [
      "\r"
     ]
    },
    {
     "data": {
      "application/vnd.jupyter.widget-view+json": {
       "model_id": "",
       "version_major": 2,
       "version_minor": 0
      },
      "text/plain": [
       "HBox(children=(FloatProgress(value=0.0, max=500.0), HTML(value='')))"
      ]
     },
     "metadata": {},
     "output_type": "display_data"
    },
    {
     "name": "stdout",
     "output_type": "stream",
     "text": [
      "\r"
     ]
    },
    {
     "data": {
      "application/vnd.jupyter.widget-view+json": {
       "model_id": "",
       "version_major": 2,
       "version_minor": 0
      },
      "text/plain": [
       "HBox(children=(FloatProgress(value=0.0, max=500.0), HTML(value='')))"
      ]
     },
     "metadata": {},
     "output_type": "display_data"
    },
    {
     "name": "stdout",
     "output_type": "stream",
     "text": [
      "\r"
     ]
    },
    {
     "data": {
      "application/vnd.jupyter.widget-view+json": {
       "model_id": "",
       "version_major": 2,
       "version_minor": 0
      },
      "text/plain": [
       "HBox(children=(FloatProgress(value=0.0, max=500.0), HTML(value='')))"
      ]
     },
     "metadata": {},
     "output_type": "display_data"
    },
    {
     "name": "stdout",
     "output_type": "stream",
     "text": [
      "\r"
     ]
    },
    {
     "data": {
      "application/vnd.jupyter.widget-view+json": {
       "model_id": "",
       "version_major": 2,
       "version_minor": 0
      },
      "text/plain": [
       "HBox(children=(FloatProgress(value=0.0, max=500.0), HTML(value='')))"
      ]
     },
     "metadata": {},
     "output_type": "display_data"
    },
    {
     "name": "stdout",
     "output_type": "stream",
     "text": [
      "\r"
     ]
    },
    {
     "data": {
      "application/vnd.jupyter.widget-view+json": {
       "model_id": "",
       "version_major": 2,
       "version_minor": 0
      },
      "text/plain": [
       "HBox(children=(FloatProgress(value=0.0, max=500.0), HTML(value='')))"
      ]
     },
     "metadata": {},
     "output_type": "display_data"
    },
    {
     "name": "stdout",
     "output_type": "stream",
     "text": [
      "\r"
     ]
    },
    {
     "data": {
      "application/vnd.jupyter.widget-view+json": {
       "model_id": "",
       "version_major": 2,
       "version_minor": 0
      },
      "text/plain": [
       "HBox(children=(FloatProgress(value=0.0, max=190.0), HTML(value='')))"
      ]
     },
     "metadata": {},
     "output_type": "display_data"
    },
    {
     "name": "stdout",
     "output_type": "stream",
     "text": [
      "\r"
     ]
    },
    {
     "data": {
      "application/vnd.jupyter.widget-view+json": {
       "model_id": "",
       "version_major": 2,
       "version_minor": 0
      },
      "text/plain": [
       "HBox(children=(FloatProgress(value=0.0, max=190.0), HTML(value='')))"
      ]
     },
     "metadata": {},
     "output_type": "display_data"
    },
    {
     "name": "stdout",
     "output_type": "stream",
     "text": [
      "\r"
     ]
    },
    {
     "data": {
      "application/vnd.jupyter.widget-view+json": {
       "model_id": "",
       "version_major": 2,
       "version_minor": 0
      },
      "text/plain": [
       "HBox(children=(FloatProgress(value=0.0, max=500.0), HTML(value='')))"
      ]
     },
     "metadata": {},
     "output_type": "display_data"
    },
    {
     "name": "stdout",
     "output_type": "stream",
     "text": [
      "\r"
     ]
    },
    {
     "data": {
      "application/vnd.jupyter.widget-view+json": {
       "model_id": "",
       "version_major": 2,
       "version_minor": 0
      },
      "text/plain": [
       "HBox(children=(FloatProgress(value=0.0, max=500.0), HTML(value='')))"
      ]
     },
     "metadata": {},
     "output_type": "display_data"
    },
    {
     "name": "stdout",
     "output_type": "stream",
     "text": [
      "\r"
     ]
    },
    {
     "data": {
      "application/vnd.jupyter.widget-view+json": {
       "model_id": "",
       "version_major": 2,
       "version_minor": 0
      },
      "text/plain": [
       "HBox(children=(FloatProgress(value=0.0, max=500.0), HTML(value='')))"
      ]
     },
     "metadata": {},
     "output_type": "display_data"
    },
    {
     "name": "stdout",
     "output_type": "stream",
     "text": [
      "\r"
     ]
    },
    {
     "data": {
      "application/vnd.jupyter.widget-view+json": {
       "model_id": "",
       "version_major": 2,
       "version_minor": 0
      },
      "text/plain": [
       "HBox(children=(FloatProgress(value=0.0, max=500.0), HTML(value='')))"
      ]
     },
     "metadata": {},
     "output_type": "display_data"
    },
    {
     "name": "stdout",
     "output_type": "stream",
     "text": [
      "\r"
     ]
    },
    {
     "data": {
      "application/vnd.jupyter.widget-view+json": {
       "model_id": "",
       "version_major": 2,
       "version_minor": 0
      },
      "text/plain": [
       "HBox(children=(FloatProgress(value=0.0, max=500.0), HTML(value='')))"
      ]
     },
     "metadata": {},
     "output_type": "display_data"
    },
    {
     "name": "stdout",
     "output_type": "stream",
     "text": [
      "\r"
     ]
    },
    {
     "data": {
      "application/vnd.jupyter.widget-view+json": {
       "model_id": "",
       "version_major": 2,
       "version_minor": 0
      },
      "text/plain": [
       "HBox(children=(FloatProgress(value=0.0, max=500.0), HTML(value='')))"
      ]
     },
     "metadata": {},
     "output_type": "display_data"
    },
    {
     "name": "stdout",
     "output_type": "stream",
     "text": [
      "\r"
     ]
    },
    {
     "data": {
      "application/vnd.jupyter.widget-view+json": {
       "model_id": "",
       "version_major": 2,
       "version_minor": 0
      },
      "text/plain": [
       "HBox(children=(FloatProgress(value=0.0, max=500.0), HTML(value='')))"
      ]
     },
     "metadata": {},
     "output_type": "display_data"
    },
    {
     "name": "stdout",
     "output_type": "stream",
     "text": [
      "\r"
     ]
    },
    {
     "data": {
      "application/vnd.jupyter.widget-view+json": {
       "model_id": "",
       "version_major": 2,
       "version_minor": 0
      },
      "text/plain": [
       "HBox(children=(FloatProgress(value=0.0, max=500.0), HTML(value='')))"
      ]
     },
     "metadata": {},
     "output_type": "display_data"
    },
    {
     "name": "stdout",
     "output_type": "stream",
     "text": [
      "\r"
     ]
    },
    {
     "data": {
      "application/vnd.jupyter.widget-view+json": {
       "model_id": "",
       "version_major": 2,
       "version_minor": 0
      },
      "text/plain": [
       "HBox(children=(FloatProgress(value=0.0, max=500.0), HTML(value='')))"
      ]
     },
     "metadata": {},
     "output_type": "display_data"
    },
    {
     "name": "stdout",
     "output_type": "stream",
     "text": [
      "\r"
     ]
    },
    {
     "data": {
      "application/vnd.jupyter.widget-view+json": {
       "model_id": "",
       "version_major": 2,
       "version_minor": 0
      },
      "text/plain": [
       "HBox(children=(FloatProgress(value=0.0, max=500.0), HTML(value='')))"
      ]
     },
     "metadata": {},
     "output_type": "display_data"
    },
    {
     "name": "stdout",
     "output_type": "stream",
     "text": [
      "\r"
     ]
    },
    {
     "data": {
      "application/vnd.jupyter.widget-view+json": {
       "model_id": "",
       "version_major": 2,
       "version_minor": 0
      },
      "text/plain": [
       "HBox(children=(FloatProgress(value=0.0, max=500.0), HTML(value='')))"
      ]
     },
     "metadata": {},
     "output_type": "display_data"
    },
    {
     "name": "stdout",
     "output_type": "stream",
     "text": [
      "\r"
     ]
    },
    {
     "data": {
      "application/vnd.jupyter.widget-view+json": {
       "model_id": "",
       "version_major": 2,
       "version_minor": 0
      },
      "text/plain": [
       "HBox(children=(FloatProgress(value=0.0, max=500.0), HTML(value='')))"
      ]
     },
     "metadata": {},
     "output_type": "display_data"
    },
    {
     "name": "stdout",
     "output_type": "stream",
     "text": [
      "\r"
     ]
    },
    {
     "data": {
      "application/vnd.jupyter.widget-view+json": {
       "model_id": "",
       "version_major": 2,
       "version_minor": 0
      },
      "text/plain": [
       "HBox(children=(FloatProgress(value=0.0, max=500.0), HTML(value='')))"
      ]
     },
     "metadata": {},
     "output_type": "display_data"
    },
    {
     "name": "stdout",
     "output_type": "stream",
     "text": [
      "\r"
     ]
    },
    {
     "data": {
      "application/vnd.jupyter.widget-view+json": {
       "model_id": "",
       "version_major": 2,
       "version_minor": 0
      },
      "text/plain": [
       "HBox(children=(FloatProgress(value=0.0, max=500.0), HTML(value='')))"
      ]
     },
     "metadata": {},
     "output_type": "display_data"
    },
    {
     "name": "stdout",
     "output_type": "stream",
     "text": [
      "\r"
     ]
    },
    {
     "data": {
      "application/vnd.jupyter.widget-view+json": {
       "model_id": "",
       "version_major": 2,
       "version_minor": 0
      },
      "text/plain": [
       "HBox(children=(FloatProgress(value=0.0, max=500.0), HTML(value='')))"
      ]
     },
     "metadata": {},
     "output_type": "display_data"
    },
    {
     "name": "stdout",
     "output_type": "stream",
     "text": [
      "\r"
     ]
    },
    {
     "data": {
      "application/vnd.jupyter.widget-view+json": {
       "model_id": "",
       "version_major": 2,
       "version_minor": 0
      },
      "text/plain": [
       "HBox(children=(FloatProgress(value=0.0, max=190.0), HTML(value='')))"
      ]
     },
     "metadata": {},
     "output_type": "display_data"
    },
    {
     "name": "stdout",
     "output_type": "stream",
     "text": [
      "\r"
     ]
    }
   ],
   "source": [
    "def create_time_buckets(times):\n",
    "    times = np.array(times)\n",
    "    out_times = np.zeros(shape=len(times))\n",
    "    \n",
    "    times /= 60.\n",
    "    \n",
    "    return np.floor(times / 10.) * 10.\n",
    "\n",
    "reliabilities = {}\n",
    "for method, question in sorted(experiments, reverse=False):\n",
    "    reliabilities[method, question] = compute_time_reliability_curve(experiments[method, question], times[method, question], score_key=\"score\" if method != \"rank\" else \"rank\")"
   ]
  },
  {
   "cell_type": "code",
   "execution_count": 7,
   "metadata": {
    "scrolled": false
   },
   "outputs": [
    {
     "data": {
      "image/png": "[encoded data removed]",
      "text/plain": [
       "<Figure size 648x288 with 2 Axes>"
      ]
     },
     "metadata": {
      "needs_background": "light"
     },
     "output_type": "display_data"
    }
   ],
   "source": [
    "#sns.lineplot(create_time_buckets(times[\"rank\", \"coherence\"]), experiments[\"rank\", \"coherence\"], dashes=[(2,2)])\n",
    "\n",
    "_, (ax1, ax2) = plt.subplots(1, 2, sharey=True)\n",
    "\n",
    "plt.sca(ax1)\n",
    "\n",
    "ax1.title.set_text(\"Coherence\")\n",
    "ax2.title.set_text(\"Repetition\")\n",
    "\n",
    "ax1.set_ylim(0.8, 1)\n",
    "ax2.set_ylim(0.8, 1)\n",
    "\n",
    "fig = plt.gcf()\n",
    "fig.set_size_inches(9, 4)\n",
    "\n",
    "fig.subplots_adjust(wspace=0)\n",
    "\n",
    "ax1.set_ylabel('Correlation with full annotation')\n",
    "ax1.set_xticks([0, 200, 400, 600])\n",
    "ax2.set_xticks([0, 200, 400, 600])\n",
    "ax1.set_xlabel('Total Time Spent (in minutes)')\n",
    "ax2.set_xlabel('Total Time Spent (in minutes)')\n",
    "\n",
    "\n",
    "for method, question in sorted(experiments, reverse=False):\n",
    "    if question == \"coherence\":\n",
    "        ax = ax1\n",
    "        label = None\n",
    "    else:\n",
    "        ax = ax2\n",
    "        label = \"Likert\" if method == \"likert\" else \"Rank\"\n",
    "    plt.sca(ax)\n",
    "    correlations, corr_times = reliabilities[method, question]\n",
    "    sns.lineplot(x=create_time_buckets(corr_times), y=correlations, label=label)\n",
    "    \n",
    "    if method == \"rank\":\n",
    "        ax.lines[-1].set_linestyle(\":\")\n",
    "\n",
    "plt.legend(loc=\"lower right\")\n",
    "\n",
    "\n",
    "fig.savefig('timespower-new.png', dpi=100, bbox_inches='tight')"
   ]
  },
  {
   "cell_type": "markdown",
   "metadata": {},
   "source": [
    "## Score distribution"
   ]
  },
  {
   "cell_type": "code",
   "execution_count": 8,
   "metadata": {},
   "outputs": [
    {
     "data": {
      "image/png": "[encoded data removed]",
      "text/plain": [
       "<Figure size 648x288 with 2 Axes>"
      ]
     },
     "metadata": {
      "needs_background": "light"
     },
     "output_type": "display_data"
    }
   ],
   "source": [
    "_, axes = plt.subplots(1, 2, sharey=True)\n",
    "\n",
    "markers = {\n",
    "    \"BART\": \"X\",\n",
    "    \"__REFERENCE__\": \"o\",\n",
    "    \"seneca\": \"+\",\n",
    "    \"abssentrw\": \"s\",\n",
    "    \"onmt_pg\": \"p\"\n",
    "}\n",
    "\n",
    "labels = {\n",
    "    \"BART\": \"BART\",\n",
    "    \"__REFERENCE__\": \"ref\",\n",
    "    \"seneca\": \"Seneca\",\n",
    "    \"abssentrw\": \"ASR\",\n",
    "    \"onmt_pg\": \"PG\"\n",
    "}\n",
    "\n",
    "likert_experiments = list(filter(lambda x: x[0][0] == \"likert\", sorted(experiments.items())))\n",
    "\n",
    "for idx, (ax, ((method, question), annotations)) in enumerate(zip(axes, likert_experiments)):\n",
    "    all_val_counts = annotations.groupby([\"system\", \"score\"]).size()\n",
    "    \n",
    "    systems = sorted(all_val_counts.index.unique(\"system\"))\n",
    "    for system in systems:\n",
    "        val_counts = all_val_counts.xs(system, level=\"system\")\n",
    "        ax.plot(val_counts.index.to_frame()[\"score\"], val_counts, marker=markers[system], label=labels[system])\n",
    "    \n",
    "    if idx == 1:\n",
    "        ax.set_title(\"Repetition\")\n",
    "        plt.legend()\n",
    "    else:\n",
    "        ax.set_ylabel(\"#Judgements\")\n",
    "        ax.set_title(\"Coherence\")\n",
    "    ax.set_xlabel(\"Score\")\n",
    "        \n",
    "fig = plt.gcf()\n",
    "fig.subplots_adjust(hspace=0, wspace=0)\n",
    "fig.set_size_inches(9, 4)\n",
    "fig.savefig('scoredist.png', dpi=100, bbox_inches=\"tight\")"
   ]
  },
  {
   "cell_type": "markdown",
   "metadata": {},
   "source": [
    "## Type 1 Error rates"
   ]
  },
  {
   "cell_type": "code",
   "execution_count": null,
   "metadata": {
    "scrolled": true
   },
   "outputs": [
    {
     "data": {
      "application/vnd.jupyter.widget-view+json": {
       "model_id": "85b7ad97e3cd4fb987a5389a18f1b2b7",
       "version_major": 2,
       "version_minor": 0
      },
      "text/plain": [
       "HBox(children=(FloatProgress(value=0.0, max=8.0), HTML(value='')))"
      ]
     },
     "metadata": {},
     "output_type": "display_data"
    },
    {
     "data": {
      "application/vnd.jupyter.widget-view+json": {
       "model_id": "b71d190785134dd09dcac3a0a525afe7",
       "version_major": 2,
       "version_minor": 0
      },
      "text/plain": [
       "HBox(children=(FloatProgress(value=0.0, max=1000.0), HTML(value='')))"
      ]
     },
     "metadata": {},
     "output_type": "display_data"
    },
    {
     "name": "stdout",
     "output_type": "stream",
     "text": [
      "\n"
     ]
    },
    {
     "data": {
      "application/vnd.jupyter.widget-view+json": {
       "model_id": "4e5c5dd7bc184456aca29258cbf8768a",
       "version_major": 2,
       "version_minor": 0
      },
      "text/plain": [
       "HBox(children=(FloatProgress(value=0.0, max=1000.0), HTML(value='')))"
      ]
     },
     "metadata": {},
     "output_type": "display_data"
    }
   ],
   "source": [
    "blocks = [(1, 100), (2, 50), (4, 25), (5, 20), (10, 10), (20, 5), (50, 2), (100, 1)]\n",
    "error_rates = {}\n",
    "\n",
    "for question, model in models.items():\n",
    "    error_rates[question] = get_model_type1_error_rates(model, blocks)"
   ]
  },
  {
   "cell_type": "code",
   "execution_count": null,
   "metadata": {},
   "outputs": [],
   "source": [
    "def plot_error_rates(error_rates, ax, idx):\n",
    "    ax.plot([block_count * 3 for block_count, doc_count in blocks], error_rates['ttest_no_agg'], \":X\", color=\"tab:blue\", label=\"t-Test, w/o aggregation\")\n",
    "    ax.plot([block_count * 3 for block_count, doc_count in blocks], error_rates['ttest_agg'], \"-X\", color=\"tab:blue\", label=\"t-Test, with aggregation\")\n",
    "\n",
    "    ax.plot([block_count * 3 for block_count, doc_count in blocks], error_rates['art_no_agg'], \":.\", color=\"tab:orange\", label=\"ART, w/o aggregation\")\n",
    "    ax.plot([block_count * 3 for block_count, doc_count in blocks], error_rates['art_agg'], \"-.\", marker=\".\", color=\"tab:orange\", label=\"ART, with aggregation\")\n",
    "\n",
    "    ax.axhline(0.05, color=\"tab:red\")\n",
    "\n",
    "    ax.set_xlabel(\"Total Number of Annotators\")\n",
    "    \n",
    "    \n",
    "    if idx == 0:\n",
    "        ax.set_ylabel(\"Type I Error Rate\")\n",
    "\n",
    "    ax.set_ylim(0, 0.5)\n",
    "    \n",
    "    if idx == 1:\n",
    "        ax.legend()\n",
    "        \n",
    "    if idx == 0:\n",
    "        ax.set_title(\"Coherence\")\n",
    "    else:\n",
    "        ax.set_title(\"Repetition\")\n",
    "\n",
    "    \n",
    "_, (ax1, ax2) = plt.subplots(1, 2, sharey=True)\n",
    "\n",
    "plot_error_rates(error_rates[\"coherence\"], ax1, 0)\n",
    "plot_error_rates(error_rates[\"repetition\"], ax2, 1)\n",
    "\n",
    "fig = plt.gcf()\n",
    "fig.set_size_inches(9, 4)\n",
    "\n",
    "fig.subplots_adjust(wspace=0)\n",
    "\n",
    "fig.savefig('error_rates_new.png', dpi=100, bbox_inches=\"tight\")"
   ]
  },
  {
   "cell_type": "markdown",
   "metadata": {},
   "source": [
    "## Power analysis for nested vs. crossed"
   ]
  },
  {
   "cell_type": "code",
   "execution_count": null,
   "metadata": {},
   "outputs": [],
   "source": [
    "power_results = {}\n",
    "power_results[\"regression\", \"coherence\"] = read_obspower_files(obs_power_path, \"model_logit_likert_cnndm_coherence*_5_*.csv\")\n",
    "power_results[\"regression\", \"repetition\"] = read_obspower_files(obs_power_path, \"model_logit_likert_cnndm_repetition*_5_*.csv\")\n",
    "\n",
    "for question, model in models.items():\n",
    "    power_results[\"art_agg\", question] = run_art_experiment(models[question], 3, (1, 5, 10, 15, 20))\n",
    "    \n",
    "filtered_power_results = {}\n",
    "\n",
    "for (test, question), df in power_results.items():\n",
    "    new_df = filter_wrong_rankings(models[question], df)\n",
    "    filtered_power_results[test, question] = new_df"
   ]
  },
  {
   "cell_type": "code",
   "execution_count": null,
   "metadata": {
    "scrolled": false
   },
   "outputs": [],
   "source": [
    "_, (ax1, ax2) = plt.subplots(1, 2, sharey=True)\n",
    "\n",
    "for ax, model in zip([ax1, ax2], [\"coherence\", \"repetition\"]):\n",
    "    \n",
    "    if model == \"coherence\":\n",
    "        ax.set_title(\"Coherence\")\n",
    "    else:\n",
    "        ax.set_title(\"Repetition\")\n",
    "\n",
    "    for test in \"regression\", \"art_agg\":\n",
    "        test_df = filtered_power_results[test, model]\n",
    "        #test_df = model_df.xs(test, level=\"test\")\n",
    "\n",
    "        test_df[\"is_sig\"] = test_df[\"p_value\"] < 0.05\n",
    "\n",
    "        test_df = test_df.groupby([\"annotators\", \"effort\"]).mean()\n",
    "                \n",
    "        nested_df = test_df.xs(1, level=\"annotators\").reset_index()\n",
    "        crossed_df = test_df.xs(3, level=\"annotators\").reset_index()\n",
    "        \n",
    "        style = \"-\" if test == \"regression\" else \"--\"\n",
    "        \n",
    "        if test == \"art_agg\":\n",
    "            test_name = \"ARTagg\"\n",
    "        else:\n",
    "            test_name = \"regression\"\n",
    "        \n",
    "        ax.plot(nested_df[\"effort\"] * 5, nested_df[\"is_sig\"], style, color=\"tab:blue\", marker=\"o\", label=f\"{test_name} nested\")\n",
    "        ax.plot(crossed_df[\"effort\"] * 5, crossed_df[\"is_sig\"], style, color=\"tab:orange\", marker=\"X\", label=f\"{test_name} crossed\")\n",
    "        \n",
    "        ax.set_xlabel(\"Number of Judgements\")\n",
    "        if model == \"coherence\":\n",
    "            ax.set_ylabel(\"Power\")\n",
    "plt.legend()\n",
    "\n",
    "fig = plt.gcf()\n",
    "fig.subplots_adjust(hspace=0, wspace=0)\n",
    "\n",
    "fig.set_size_inches(9, 4)\n",
    "fig.savefig('power-new.png', dpi=100, bbox_inches=\"tight\")\n"
   ]
  },
  {
   "cell_type": "markdown",
   "metadata": {},
   "source": [
    "## Power analysis for nested vs. crossed"
   ]
  },
  {
   "cell_type": "code",
   "execution_count": null,
   "metadata": {},
   "outputs": [],
   "source": [
    "pval_dfs = {}\n",
    "for question, model in models.items():\n",
    "    pval_dfs[\"art_agg\", question] = run_art_experiment_fixed_budget(model, 100, 3, (1, 2, 4, 5, 10, 20, 25))\n",
    "\n",
    "filter_func = lambda name, b, d, a: b * d == 100\n",
    "pval_dfs[\"regression\", \"coherence\"] = read_obspower_files(obs_power_path, \"model_logit_likert_cnndm_coherence*_*_3.csv\", filter_func=filter_func)\n",
    "pval_dfs[\"regression\", \"repetition\"] = read_obspower_files(obs_power_path, \"model_logit_likert_cnndm_repetition*_*_3.csv\", filter_func=filter_func)\n",
    "\n",
    "filtered_pval_dfs = {}\n",
    "\n",
    "for (test, question), df in pval_dfs.items():\n",
    "    new_df = filter_wrong_rankings(models[question], df)\n",
    "    if test == \"arg_agg\":\n",
    "        test = \"art_agg\"\n",
    "    filtered_pval_dfs[test, question] = new_df"
   ]
  },
  {
   "cell_type": "code",
   "execution_count": null,
   "metadata": {
    "scrolled": false
   },
   "outputs": [],
   "source": [
    "_, (ax1, ax2) = plt.subplots(1, 2, sharey=True)\n",
    "\n",
    "for ax, question in zip((ax1, ax2), (\"coherence\", \"repetition\")):\n",
    "    regression_df = filtered_pval_dfs[\"regression\", question]\n",
    "    art_df = filtered_pval_dfs[\"art_agg\", question]\n",
    "    \n",
    "    regression_sig = (regression_df[\"p_value\"] < 0.05).groupby([\"total_annotators\"]).mean()\n",
    "    art_sig = (art_df[\"p_value\"] < 0.05).groupby([\"total_annotators\"]).mean()\n",
    "\n",
    "    ax.plot(\n",
    "        regression_sig.reset_index()[\"total_annotators\"],\n",
    "        regression_sig,\n",
    "        \"-X\",\n",
    "        label=f\"Regression\"\n",
    "    )\n",
    "    ax.plot(\n",
    "        art_sig.reset_index()[\"total_annotators\"],\n",
    "        art_sig,\n",
    "        \":.\",\n",
    "        label=f\"ARTagg\",\n",
    "        \n",
    "    )\n",
    "    \n",
    "    ax.set_xlabel(\"Number of Annotators\")\n",
    "        \n",
    "    if question == \"coherence\":\n",
    "        ax.set_ylabel(\"Power\")\n",
    "        ax.set_title(\"Coherence\")\n",
    "    else:\n",
    "        ax.set_title(\"Repetition\")\n",
    "\n",
    "plt.legend()\n",
    "\n",
    "fig = plt.gcf()\n",
    "fig.subplots_adjust(hspace=0, wspace=0)\n",
    "\n",
    "fig.set_size_inches(9, 4)\n",
    "fig.savefig('annopower-new.png', dpi=100, bbox_inches=\"tight\")"
   ]
  },
  {
   "cell_type": "markdown",
   "metadata": {},
   "source": [
    "## Nested vs. Crossed reliability"
   ]
  },
  {
   "cell_type": "code",
   "execution_count": null,
   "metadata": {},
   "outputs": [],
   "source": [
    "crossed_results = {}\n",
    "nested_results = {}\n",
    "\n",
    "for (method, question), judgements in experiments.items():\n",
    "    score_name = \"score\" if method == \"likert\" else \"rank\"\n",
    "    crossed_results[method, question] = compute_grouped_subsample_variance(judgements, True, score_name=score_name)\n",
    "    nested_results[method, question] = compute_grouped_subsample_variance(judgements, score_name=score_name)"
   ]
  },
  {
   "cell_type": "code",
   "execution_count": null,
   "metadata": {},
   "outputs": [],
   "source": [
    "%matplotlib inline\n",
    "_, ((ax1, ax2), (ax3, ax4)) = plt.subplots(2, 2, sharey=True, sharex=True)\n",
    "\n",
    "axis = [ax1, ax2, ax3, ax4]\n",
    "\n",
    "for idx, (ax, (method, question)) in enumerate(zip(axis, [(m, q) for q in [\"coherence\", \"repetition\"] for m in [\"likert\", \"rank\"]])):\n",
    "    \n",
    "    sub_df_nested = nested_results[method, question]\n",
    "    sub_df_nested = pd.DataFrame(zip(sub_df_nested[0], sub_df_nested[1]), columns=[\"cost\", \"pearson\"])\n",
    "    sub_df_crossed = crossed_results[method, question]\n",
    "    sub_df_crossed = pd.DataFrame(zip(sub_df_crossed[0], sub_df_crossed[1]), columns=[\"cost\", \"pearson\"])\n",
    "    \n",
    "    sub_df_crossed = sub_df_crossed.loc[sub_df_crossed[\"cost\"] <= 21]\n",
    "    sub_df_crossed = sub_df_crossed.loc[sub_df_crossed[\"cost\"] >= 3]\n",
    "    #sub_df_crossed = sub_df_crossed.loc[curves[\"cost\"] <= 21]\n",
    "    sub_df_nested = sub_df_nested.loc[sub_df_nested[\"cost\"] >= 3]\n",
    "\n",
    "    sub_df_crossed[\"cost\"] *= 25\n",
    "    sub_df_nested[\"cost\"] *= 25\n",
    "    \n",
    "\n",
    "\n",
    "    ax.plot(sub_df_nested[\"cost\"].to_numpy(), sub_df_nested[\"pearson\"].to_numpy(), \"-\", marker=\"o\", label=\"Nested\")\n",
    "    ax.plot(sub_df_crossed[\"cost\"], sub_df_crossed[\"pearson\"], \"--\", marker=\"X\", label=\"Crossed\")\n",
    "    if idx in (0, 2):\n",
    "        ax.set_ylabel(\"Correlation\")\n",
    "    if idx in (2, 3):\n",
    "        ax.set_xlabel(\"Number of Judgements\")\n",
    "        \n",
    "    if idx == 3:\n",
    "        plt.legend(loc=\"lower right\")\n",
    "        \n",
    "    fig = plt.gcf()\n",
    "    fig.subplots_adjust(hspace=0, wspace=0)\n",
    "    #ax.set_title(key)\n",
    "    \n",
    "plt.gcf().text(0.92, 0.7, \"Coherence\", rotation=90, horizontalalignment='center', verticalalignment='center', fontsize=12)\n",
    "plt.gcf().text(0.92, 0.32, \"Repetition\", rotation=90, horizontalalignment='center', verticalalignment='center', fontsize=12)\n",
    "\n",
    "plt.gcf().text(0.32, 0.9, \"Likert\", horizontalalignment='center', verticalalignment='center', fontsize=12)\n",
    "plt.gcf().text(0.71, 0.9, \"Rank\", horizontalalignment='center', verticalalignment='center', fontsize=12)\n",
    "\n",
    "fig.set_size_inches(8, 8)\n",
    "fig.savefig(\"multiannotator-new.png\", bbox_inches=\"tight\")"
   ]
  },
  {
   "cell_type": "code",
   "execution_count": null,
   "metadata": {},
   "outputs": [],
   "source": []
  },
  {
   "cell_type": "code",
   "execution_count": null,
   "metadata": {},
   "outputs": [],
   "source": []
  },
  {
   "cell_type": "code",
   "execution_count": null,
   "metadata": {},
   "outputs": [],
   "source": []
  },
  {
   "cell_type": "code",
   "execution_count": null,
   "metadata": {},
   "outputs": [],
   "source": []
  },
  {
   "cell_type": "code",
   "execution_count": null,
   "metadata": {},
   "outputs": [],
   "source": []
  }
 ],
 "metadata": {
  "kernelspec": {
   "display_name": "pytorch",
   "language": "python",
   "name": "pytorch"
  },
  "language_info": {
   "codemirror_mode": {
    "name": "ipython",
    "version": 3
   },
   "file_extension": ".py",
   "mimetype": "text/x-python",
   "name": "python",
   "nbconvert_exporter": "python",
   "pygments_lexer": "ipython3",
   "version": "3.6.9"
  }
 },
 "nbformat": 4,
 "nbformat_minor": 4
}
